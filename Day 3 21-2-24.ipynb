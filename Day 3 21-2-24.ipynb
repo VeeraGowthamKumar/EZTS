{
 "cells": [
  {
   "cell_type": "code",
   "execution_count": null,
   "id": "01a75772",
   "metadata": {},
   "outputs": [],
   "source": [
    "# Duplicate values in a list\n",
    "#approach 1\n",
    "'''\n",
    "n = int(input())\n",
    "l = list(map(int,input().split()))[:n]\n",
    "d = []\n",
    "for i in range(n):\n",
    "    if l.count(l[i])>1:\n",
    "        d.append(l[i])\n",
    "for i in d:\n",
    "    print(l[i])\n",
    "\n",
    "#approach 2\n",
    "n = int(input())\n",
    "l = list(map(int,input().split()))[:n]\n",
    "for i in range(n):\n",
    "    if l[i] in l[i+1:]:\n",
    "        print(l[i])\n",
    "        break\n",
    "\n",
    "#approach 3 Two pointers\n",
    "n = int(input())\n",
    "a = list(map(int,input().split()))\n",
    "a.sort()\n",
    "for i in range(n):\n",
    "    if a[i] == a[i+1]:\n",
    "        print(a[i])\n",
    "        break\n",
    "'''"
   ]
  },
  {
   "cell_type": "code",
   "execution_count": 29,
   "id": "028a0551",
   "metadata": {},
   "outputs": [
    {
     "name": "stdout",
     "output_type": "stream",
     "text": [
      "5\n",
      "10 20 30 20 50\n",
      "10 30 50 "
     ]
    }
   ],
   "source": [
    "#Unique elements\n",
    "#approach 1\n",
    "'''\n",
    "n = int(input())\n",
    "l = list(map(int,input().split()))[:n]\n",
    "u = []\n",
    "for i in range(n):\n",
    "    if l.count(l[i]) == 1:\n",
    "        if l[i] in u:\n",
    "            continue\n",
    "        else:\n",
    "            u.append(l[i])\n",
    "for i in u:\n",
    "    print(i,end = \" \")\n",
    "'''\n",
    "#approach 2\n",
    "n = int(input())\n",
    "a = list(map(int,input().split()))[:n]\n",
    "for i in l:\n",
    "    if a.count(i) == 1:\n",
    "        print(i,end = \" \")"
   ]
  },
  {
   "cell_type": "code",
   "execution_count": 15,
   "id": "82ebf3de",
   "metadata": {},
   "outputs": [
    {
     "name": "stdout",
     "output_type": "stream",
     "text": [
      "2\n"
     ]
    }
   ],
   "source": [
    "'''\n",
    "t = int(input())\n",
    "for i in range(t):\n",
    "    n = int(input())\n",
    "    even,odd = 0,0\n",
    "    for j in range(1,n+1):\n",
    "        if n%j == 0:\n",
    "            if j%2 == 0:\n",
    "                even = even+1\n",
    "            else:\n",
    "                odd = odd+1\n",
    "    if even == odd:\n",
    "        print(1)\n",
    "    else:\n",
    "        print(0)\n",
    "\n",
    "\n",
    "t = int(input())\n",
    "for i in range(t):\n",
    "    n = int(input())\n",
    "    factors = []\n",
    "    for j in range(1,n+1):\n",
    "        if n%j == 0:\n",
    "            factors.append(j)\n",
    "    ef = []\n",
    "    of = []\n",
    "    for j in factors:\n",
    "        if j%2 == 0:\n",
    "            ef.append(j)\n",
    "        else:\n",
    "            of.append(j)\n",
    "    if len(ef) == len(of):\n",
    "        print(1)\n",
    "    else:\n",
    "        print(0)\n",
    "'''    \n",
    "\n",
    "factors = []\n",
    "           \n",
    "t1 = []\n",
    "t2 = []\n",
    "\n",
    "    \n",
    "def teams(n):\n",
    "    for j in range(1,n+1):\n",
    "        if n%j == 0:\n",
    "             factors.append()\n",
    "    for j in factors:\n",
    "        if j%2 == 0:\n",
    "            t1.append(j)\n",
    "        else:\n",
    "            t2.append(j)\n",
    "    if len(t1) == len(t2):\n",
    "        return 1\n",
    "    else:\n",
    "        return 0\n",
    "\n",
    "t = int(input())\n",
    "def test(t):\n",
    "    for i in range(t):\n",
    "        n = int(input())\n"
   ]
  },
  {
   "cell_type": "code",
   "execution_count": 23,
   "id": "00c22294",
   "metadata": {},
   "outputs": [
    {
     "name": "stdout",
     "output_type": "stream",
     "text": [
      "1\n",
      "4 20\n",
      "18 20 21 9\n",
      "100 200 150 600\n",
      "350\n"
     ]
    }
   ],
   "source": [
    "t = int(input())\n",
    "for i in range(t):\n",
    "    n,x = map(int,input().split())\n",
    "    q = list(map(int,input().split()))\n",
    "    p = list(map(int,input().split()))\n",
    "    cost = 0\n",
    "    for i in range(n):\n",
    "        if q[i]>=x:\n",
    "            cost = cost+p[i]\n",
    "    print(cost)\n"
   ]
  },
  {
   "cell_type": "code",
   "execution_count": 27,
   "id": "3aa8aa4a",
   "metadata": {},
   "outputs": [
    {
     "name": "stdout",
     "output_type": "stream",
     "text": [
      "1\n",
      "4 20\n",
      "18 20 21 9\n",
      "100 200 150 600\n",
      "350\n"
     ]
    }
   ],
   "source": [
    "def test(t):\n",
    "    for i in range(t):\n",
    "        n,x = map(int,input().split())\n",
    "        q = list(map(int,input().split()))\n",
    "        p = list(map(int,input().split()))\n",
    "        price(n,x,q,p)\n",
    "\n",
    "\n",
    "def price(n,x,q,cost):\n",
    "    cost=0\n",
    "    for i in range(n):\n",
    "        if q[i]>=x:\n",
    "            cost = cost+p[i]\n",
    "    print(cost)\n",
    "    \n",
    "t = int(input())\n",
    "test(t)"
   ]
  },
  {
   "cell_type": "code",
   "execution_count": 41,
   "id": "e7a6a24b",
   "metadata": {},
   "outputs": [
    {
     "name": "stdout",
     "output_type": "stream",
     "text": [
      "1\n",
      "2\n",
      "100 200\n",
      "200 500\n",
      "1\n"
     ]
    }
   ],
   "source": [
    "t = int(input())\n",
    "for ii in range(t):\n",
    "    n = int(input())\n",
    "    both_happy = 0\n",
    "    alice = list(map(int,input().split()))\n",
    "    bob = list(map(int,input().split()))\n",
    "    for i in range(n):\n",
    "        if bob[i]<=(2*alice[i]) and alice[i]<=(2*bob[i]):\n",
    "            both_happy += 1\n",
    "    print(both_happy)"
   ]
  },
  {
   "cell_type": "code",
   "execution_count": 47,
   "id": "110590fc",
   "metadata": {},
   "outputs": [
    {
     "name": "stdout",
     "output_type": "stream",
     "text": [
      "30\n",
      "6\n",
      "28\n"
     ]
    }
   ],
   "source": [
    "#p8 print all the even perfect numbers in a given range\n",
    "\n",
    "n = int(input())\n",
    "for i in range(1,n+1):\n",
    "    factors = []\n",
    "    if i%2 == 0:\n",
    "        for j in range(1,i):\n",
    "            if i%j == 0:\n",
    "                factors.append(j)\n",
    "        if sum(factors) == i:\n",
    "            print(i)\n",
    "            "
   ]
  },
  {
   "cell_type": "code",
   "execution_count": 48,
   "id": "44fc7629",
   "metadata": {},
   "outputs": [
    {
     "name": "stdout",
     "output_type": "stream",
     "text": [
      "30\n",
      "6\n",
      "28\n"
     ]
    }
   ],
   "source": [
    "n = int(input())\n",
    "s = 0\n",
    "for i in range(2,n+1,2):\n",
    "    for j in range(1,i):\n",
    "        if i%j == 0:\n",
    "            s += j\n",
    "    if s == i:\n",
    "        print(i)\n",
    "    s = 0"
   ]
  },
  {
   "cell_type": "code",
   "execution_count": null,
   "id": "1a1d572b",
   "metadata": {},
   "outputs": [],
   "source": []
  }
 ],
 "metadata": {
  "kernelspec": {
   "display_name": "Python 3 (ipykernel)",
   "language": "python",
   "name": "python3"
  },
  "language_info": {
   "codemirror_mode": {
    "name": "ipython",
    "version": 3
   },
   "file_extension": ".py",
   "mimetype": "text/x-python",
   "name": "python",
   "nbconvert_exporter": "python",
   "pygments_lexer": "ipython3",
   "version": "3.9.12"
  }
 },
 "nbformat": 4,
 "nbformat_minor": 5
}
