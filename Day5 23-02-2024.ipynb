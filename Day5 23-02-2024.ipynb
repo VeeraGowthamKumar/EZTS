{
 "cells": [
  {
   "cell_type": "code",
   "execution_count": 6,
   "id": "02b147a7",
   "metadata": {},
   "outputs": [
    {
     "name": "stdout",
     "output_type": "stream",
     "text": [
      "abcd\n",
      "bd\n",
      "ac\n"
     ]
    }
   ],
   "source": [
    "#odd and even index\n",
    "n = input()\n",
    "o = ''\n",
    "e = ''\n",
    "for i in range(len(n)):\n",
    "    if i%2 != 0:\n",
    "        o = o+n[i]\n",
    "    else:\n",
    "        e = e+n[i]\n",
    "print(o)\n",
    "print(e)\n",
    "\n",
    "        "
   ]
  },
  {
   "cell_type": "code",
   "execution_count": 13,
   "id": "560aa525",
   "metadata": {
    "scrolled": true
   },
   "outputs": [
    {
     "name": "stdout",
     "output_type": "stream",
     "text": [
      "hihello\n",
      "ielhhlo\n"
     ]
    }
   ],
   "source": [
    "n = input()\n",
    "print(n[1::2]+n[::2])"
   ]
  },
  {
   "cell_type": "code",
   "execution_count": 14,
   "id": "26428e36",
   "metadata": {},
   "outputs": [
    {
     "name": "stdout",
     "output_type": "stream",
     "text": [
      "hello\n",
      "l\n",
      "2\n"
     ]
    }
   ],
   "source": [
    "#occurrence of a character\n",
    "n = input()\n",
    "ch = input()\n",
    "c = 0\n",
    "for i in range(len(n)):\n",
    "    if n[i] in ch:\n",
    "        c = c+1\n",
    "print(c)\n"
   ]
  },
  {
   "cell_type": "code",
   "execution_count": 17,
   "id": "cb97e677",
   "metadata": {},
   "outputs": [
    {
     "name": "stdout",
     "output_type": "stream",
     "text": [
      "hello\n",
      "l\n",
      "1\n"
     ]
    }
   ],
   "source": [
    "n = input()\n",
    "ch = input()\n",
    "c = 0\n",
    "for i in range(len(n)):\n",
    "    if i%2 == 0 and n[i] in ch:\n",
    "        c += 1\n",
    "print(c)\n",
    "        "
   ]
  },
  {
   "cell_type": "code",
   "execution_count": 24,
   "id": "53d1fa36",
   "metadata": {},
   "outputs": [
    {
     "name": "stdout",
     "output_type": "stream",
     "text": [
      "smartinterviews\n",
      "no\n"
     ]
    }
   ],
   "source": [
    "#Vowels in a string\n",
    "s = input()\n",
    "v = ['a','e','i','o','u']\n",
    "s = s.lower()\n",
    "c = 0\n",
    "for i in range(len(s)):\n",
    "    if s[i] in v:\n",
    "        c += 1\n",
    "if c == len(s):\n",
    "    print(\"yes\")\n",
    "else:\n",
    "    print(\"no\")"
   ]
  },
  {
   "cell_type": "code",
   "execution_count": 28,
   "id": "134840f7",
   "metadata": {},
   "outputs": [
    {
     "name": "stdout",
     "output_type": "stream",
     "text": [
      "aeiou\n",
      "yes\n"
     ]
    }
   ],
   "source": [
    "n = input()\n",
    "v = \"aeiouaAEIOU\"\n",
    "for i in n:\n",
    "    if i not in v:\n",
    "        print(\"no\")\n",
    "        break\n",
    "else:\n",
    "    print(\"yes\")"
   ]
  },
  {
   "cell_type": "code",
   "execution_count": 30,
   "id": "9a6d062e",
   "metadata": {},
   "outputs": [
    {
     "name": "stdout",
     "output_type": "stream",
     "text": [
      "aeiou\n",
      "yes\n"
     ]
    }
   ],
   "source": [
    "n = input()\n",
    "v = \"aeiouAEIOU\"\n",
    "c = 0\n",
    "for i in n:\n",
    "    if i not in v:\n",
    "        c = c+1\n",
    "if c == 0:\n",
    "    print(\"yes\")\n",
    "else:\n",
    "    print(\"no\")"
   ]
  },
  {
   "cell_type": "code",
   "execution_count": 34,
   "id": "7e12820c",
   "metadata": {},
   "outputs": [
    {
     "name": "stdout",
     "output_type": "stream",
     "text": [
      "aeiou\n",
      "yes\n"
     ]
    }
   ],
   "source": [
    "s = str(input())\n",
    "v = ['a','e','i','o','u','A','E','I','O','U']\n",
    "c = 0\n",
    "for i in range(len(s)):\n",
    "    if s[i] in v:\n",
    "        c += 1\n",
    "if c == len(s):\n",
    "    print(\"yes\")\n",
    "else:\n",
    "    print(\"no\")\n"
   ]
  },
  {
   "cell_type": "code",
   "execution_count": 39,
   "id": "abcd8e26",
   "metadata": {},
   "outputs": [
    {
     "name": "stdout",
     "output_type": "stream",
     "text": [
      "242389\n",
      "yes\n"
     ]
    }
   ],
   "source": [
    "s = input()\n",
    "n = \"1,2,3,4,5,6,7,8,9\"\n",
    "c = 0\n",
    "for _ in s:\n",
    "    if s[i] in n:\n",
    "        c += 1\n",
    "if c == len(s):\n",
    "    print(\"yes\")\n",
    "else:\n",
    "    print(\"no\")"
   ]
  },
  {
   "cell_type": "code",
   "execution_count": 42,
   "id": "2a9cd26b",
   "metadata": {},
   "outputs": [
    {
     "name": "stdout",
     "output_type": "stream",
     "text": [
      "o23bfoe2\n",
      "no\n"
     ]
    }
   ],
   "source": [
    "#digits in a string\n",
    "s = input()\n",
    "n = \"1,2,3,4,5,6,7,8,9\"\n",
    "for _ in s:\n",
    "    if _ not in n:\n",
    "        print(\"no\")\n",
    "        break\n",
    "else:\n",
    "    print(\"yes\")"
   ]
  },
  {
   "cell_type": "code",
   "execution_count": 47,
   "id": "b53b86be",
   "metadata": {},
   "outputs": [
    {
     "name": "stdout",
     "output_type": "stream",
     "text": [
      "234739863987689\n",
      "yes\n"
     ]
    }
   ],
   "source": [
    "s = input()\n",
    "n = \"1,2,3,4,5,6,7,8,9\"\n",
    "c = 0\n",
    "for _ in s:\n",
    "    if _ not in n:\n",
    "        c = c+1\n",
    "if c == 0:\n",
    "    print(\"yes\")\n",
    "else:\n",
    "    print(\"no\")"
   ]
  },
  {
   "cell_type": "code",
   "execution_count": 49,
   "id": "3595ac99",
   "metadata": {},
   "outputs": [
    {
     "name": "stdout",
     "output_type": "stream",
     "text": [
      "12iuefgi23e\n",
      "no\n"
     ]
    }
   ],
   "source": [
    "s = input()\n",
    "n = \"1,2,3,4,5,6,7,8,9\"\n",
    "c = 0\n",
    "for _ in s:\n",
    "    if _ in n:\n",
    "        c = c+1\n",
    "if c == len(s):\n",
    "    print(\"yes\")\n",
    "else:\n",
    "    print(\"no\")"
   ]
  },
  {
   "cell_type": "code",
   "execution_count": 52,
   "id": "abaafb6e",
   "metadata": {},
   "outputs": [
    {
     "name": "stdout",
     "output_type": "stream",
     "text": [
      "wjkq213214\n",
      "no\n"
     ]
    }
   ],
   "source": [
    "s = input()\n",
    "if  s.isdigit() == True:\n",
    "    print(\"yes\")\n",
    "else:\n",
    "    print(\"no\")\n",
    "        "
   ]
  },
  {
   "cell_type": "code",
   "execution_count": 63,
   "id": "a73b6d8f",
   "metadata": {},
   "outputs": [
    {
     "name": "stdout",
     "output_type": "stream",
     "text": [
      "asiudgoiSAOIFFIDS+\n",
      "9 8\n"
     ]
    }
   ],
   "source": [
    "#count vowels and consonents\n",
    "n = input()\n",
    "vo = \"aeiouAEIOU\"\n",
    "co = \"bcdfghjklmnpqrstuvwxyzBCDFGHIJKLMNPQRSTUVWXYZ\"\n",
    "d = \"1,2,3,4,5,6,7,8,9\"\n",
    "v = 0\n",
    "c = 0\n",
    "for _ in n:\n",
    "    if _ in vo:\n",
    "        v += 1\n",
    "    elif _ not in vo and _ in co:\n",
    "        c += 1\n",
    "    else:\n",
    "        c += 0\n",
    "print(v, c)"
   ]
  },
  {
   "cell_type": "code",
   "execution_count": 64,
   "id": "db43a35f",
   "metadata": {},
   "outputs": [
    {
     "name": "stdout",
     "output_type": "stream",
     "text": [
      "aeiouhfg\n",
      "5 3\n"
     ]
    }
   ],
   "source": [
    "s = input()\n",
    "vc = 0\n",
    "cc = 0\n",
    "v ='aeiouAEIOU'\n",
    "for i in s:\n",
    "    if i.isalpha():\n",
    "        if i in v:\n",
    "            vc = vc+1\n",
    "        else:\n",
    "            cc = cc+1\n",
    "print(vc,cc)"
   ]
  },
  {
   "cell_type": "code",
   "execution_count": 1,
   "id": "617e32a5",
   "metadata": {},
   "outputs": [
    {
     "name": "stdout",
     "output_type": "stream",
     "text": [
      "aabbcca\n",
      "a2b2c2a1\n"
     ]
    }
   ],
   "source": [
    "#compress a string\n",
    "s = input()\n",
    "c = 1\n",
    "r = \"\"\n",
    "for i in range(1,len(s)):\n",
    "    if s[i] == s[i-1]:\n",
    "        c = c+1\n",
    "    else:\n",
    "        r = r +s[i-1]\n",
    "        r = r + str(c)\n",
    "        c = 1\n",
    "r = r + s[len(s)-1] + str(c)\n",
    "print(r)\n",
    "        "
   ]
  },
  {
   "cell_type": "code",
   "execution_count": 36,
   "id": "e1c3bed7",
   "metadata": {},
   "outputs": [
    {
     "name": "stdout",
     "output_type": "stream",
     "text": [
      "2\n",
      "asks\n",
      "1 1 3\n",
      "hu@#$@!\n",
      "1 1 1\n"
     ]
    }
   ],
   "source": [
    "#words,vowels and consonents\n",
    "t = int(input())\n",
    "    \n",
    "vo = \"aeiouAEIOU\"\n",
    "\n",
    "for i in range(t):\n",
    "    n = input().split()\n",
    "    v = 0\n",
    "    c = 0\n",
    "    for i in range(len(n)):\n",
    "        \n",
    "        for i in n[i]:\n",
    "            if i in vo :\n",
    "                v += 1\n",
    "            elif i.isalpha():\n",
    "                c = c+1\n",
    "            else:\n",
    "                continue\n",
    "    print(f\"{len(n)} {v} {c}\")\n",
    "        \n",
    "\n",
    "\n"
   ]
  },
  {
   "cell_type": "code",
   "execution_count": null,
   "id": "5abe7b7e",
   "metadata": {},
   "outputs": [],
   "source": [
    "t = int(input())\n",
    "v = \"aeiou\"\n",
    "for i in range"
   ]
  },
  {
   "cell_type": "code",
   "execution_count": 40,
   "id": "7e9a98ca",
   "metadata": {},
   "outputs": [
    {
     "name": "stdout",
     "output_type": "stream",
     "text": [
      "2\n",
      "data structures\n",
      "srucures\n",
      "smart interviews\n",
      "ineview\n"
     ]
    }
   ],
   "source": [
    "#guess the problem\n",
    "t = int(input())\n",
    "for i in range(t):\n",
    "    a,b = input().split()\n",
    "    r = \"\"\n",
    "    for i in b:\n",
    "        if i not in a:\n",
    "            r = r+i\n",
    "    print(r)"
   ]
  },
  {
   "cell_type": "raw",
   "id": "c3d32473",
   "metadata": {},
   "source": [
    "t = int(input())\n",
    "for i in range(t):\n",
    "    a,b = map(str,input().split())\n",
    "    b = int(b)\n",
    "    r = \"\"\n",
    "    for i in a:\n",
    "        k = ord(i) + b\n",
    "        if k>122:\n",
    "            k = 96 + (k-122)\n",
    "            r = r + chr(k)\n",
    "        else:\n",
    "            r = r + chr(k)\n",
    "    print(r)\n",
    "           "
   ]
  },
  {
   "cell_type": "code",
   "execution_count": 67,
   "id": "f6430c68",
   "metadata": {},
   "outputs": [
    {
     "name": "stdout",
     "output_type": "stream",
     "text": [
      "120\n"
     ]
    }
   ],
   "source": [
    "#factorial\n",
    "classa:\n",
    "    def factorial(self,n):\n",
    "        f = 1\n",
    "        for i in range(1,n+1):\n",
    "            self.n = n\n",
    "            f = f*i\n",
    "        print(f)\n",
    "#ob=classa()\n",
    "ob.factorial(5)\n"
   ]
  },
  {
   "cell_type": "code",
   "execution_count": 6,
   "id": "d3546a26",
   "metadata": {},
   "outputs": [
    {
     "name": "stdout",
     "output_type": "stream",
     "text": [
      "120\n"
     ]
    }
   ],
   "source": [
    "class classa():\n",
    "    def __init__(self,n):\n",
    "        self.n = n\n",
    "    def factorial(self):\n",
    "        print(self.fact(self.n))\n",
    "    def fact(self,n):\n",
    "        if n == 1:\n",
    "            return 1\n",
    "        else:\n",
    "            return n*(self.fact(n-1))\n",
    "ob1 = classa(5)\n",
    "ob1.factorial()\n"
   ]
  },
  {
   "cell_type": "code",
   "execution_count": null,
   "id": "2a09f999",
   "metadata": {},
   "outputs": [],
   "source": []
  },
  {
   "cell_type": "code",
   "execution_count": null,
   "id": "4478a5ec",
   "metadata": {},
   "outputs": [],
   "source": []
  }
 ],
 "metadata": {
  "kernelspec": {
   "display_name": "Python 3 (ipykernel)",
   "language": "python",
   "name": "python3"
  },
  "language_info": {
   "codemirror_mode": {
    "name": "ipython",
    "version": 3
   },
   "file_extension": ".py",
   "mimetype": "text/x-python",
   "name": "python",
   "nbconvert_exporter": "python",
   "pygments_lexer": "ipython3",
   "version": "3.9.12"
  }
 },
 "nbformat": 4,
 "nbformat_minor": 5
}
